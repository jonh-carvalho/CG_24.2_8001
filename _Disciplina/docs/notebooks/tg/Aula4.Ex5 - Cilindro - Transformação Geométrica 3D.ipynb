{
 "cells": [
  {
   "cell_type": "markdown",
   "metadata": {},
   "source": [
    "# Aula4.Ex5 - Cilindro - Transformação Geométrica 3D\n",
    "### Primeiro, importamos as bibliotecas necessárias.\n",
    "Verifique no código anterior um script para instalar as dependências necessárias (`OpenGL` e `GLFW`) antes de prosseguir."
   ]
  },
  {
   "cell_type": "code",
   "execution_count": null,
   "metadata": {},
   "outputs": [],
   "source": [
    "import glfw\n",
    "from OpenGL.GL import *\n",
    "import OpenGL.GL.shaders\n",
    "import numpy as np"
   ]
  },
  {
   "cell_type": "markdown",
   "metadata": {},
   "source": [
    "### Inicializando janela"
   ]
  },
  {
   "cell_type": "code",
   "execution_count": null,
   "metadata": {},
   "outputs": [],
   "source": [
    "glfw.init()\n",
    "glfw.window_hint(glfw.VISIBLE, glfw.FALSE);\n",
    "window = glfw.create_window(700, 700, \"Cilindro\", None, None)\n",
    "glfw.make_context_current(window)"
   ]
  },
  {
   "cell_type": "markdown",
   "metadata": {},
   "source": [
    "### `GLSL` (*OpenGL Shading Language*)\n",
    "Aqui, veremos nosso primeiro código `GLSL`.\n",
    "\n",
    "É uma linguagem de *shading* de alto nível baseada na linguagem de programação `C`.\n",
    "\n",
    "Estamos escrevendo código `GLSL` como *strings* de uma variável (mas podemos ler de arquivos texto). Esse código, depois, terá que ser compilado e linkado ao nosso programa. \n",
    "\n",
    "Aprenderemos `GLSL` conforme a necessidade do curso. Usaremos uma versão do `GLSL` mais antiga, compatível com muitos dispositivos.\n",
    "### `GLSL` para *Vertex Shader*\n",
    "No Pipeline programável, podemos interagir com *Vertex Shaders*.\n",
    "\n",
    "No código abaixo, estamos fazendo o seguinte:\n",
    "* Definindo uma variável chamada `position` do tipo `vec2`.\n",
    "* Definindo uma variável chamada `mat_transformation` do tipo `mat4` (matriz $4\\times4$). Use-a como matriz de transformação, resultante de uma sequências de outras transformações (e.g. rotação + translação).\n",
    "* Usamos `vec2`, pois nosso programa (na CPU) irá enviar apenas duas coordenadas para plotar um ponto. Podemos mandar três coordenadas (`vec3`) e até mesmo quatro coordenadas (`vec4`).\n",
    "* `void main()` é o ponto de entrada do nosso programa (função principal).\n",
    "* `gl_Position` é uma variável especial do `GLSL`. Variáveis que começam com `gl_` são desse tipo. Neste caso, determina a posição de um vértice. Observe que todo vértice tem $4$ coordenadas, por isso combinamos nossa variável `vec2` com uma variável `vec4`. Além disso, modificamos nosso vetor com base em uma matriz de transformação."
   ]
  },
  {
   "cell_type": "code",
   "execution_count": null,
   "metadata": {},
   "outputs": [],
   "source": [
    "vertex_code = \"\"\"\n",
    "        attribute vec3 position;\n",
    "        uniform mat4 mat_transformation;\n",
    "        void main(){\n",
    "            gl_Position = mat_transformation * vec4(position,1.0);\n",
    "        }\n",
    "        \"\"\""
   ]
  },
  {
   "cell_type": "markdown",
   "metadata": {},
   "source": [
    "### `GLSL` para *Fragment Shader*\n",
    "No Pipeline programável, podemos interagir com *Fragment Shaders*.\n",
    "\n",
    "No código abaixo, estamos fazendo o seguinte:\n",
    "* `void main()` é o ponto de entrada do nosso programa (função principal).\n",
    "* `gl_FragColor` é uma variável especial do `GLSL`. Variáveis que começam com `gl_` são desse tipo. Neste caso, determina a cor de um fragmento.\n",
    "\n",
    "### Possibilitando modificar a cor\n",
    "Nos exemplos anteriores, a variável `gl_FragColor` estava definida de forma fixa (com cor $R=0$, $G=0$, $B=0$).\n",
    "\n",
    "Agora, criaremos uma variável do tipo `uniform`, de quatro posições (`vec4`), para receber o dado de cor do nosso programa rodando em CPU."
   ]
  },
  {
   "cell_type": "code",
   "execution_count": null,
   "metadata": {},
   "outputs": [],
   "source": [
    "fragment_code = \"\"\"\n",
    "        uniform vec4 color;\n",
    "        void main(){\n",
    "            gl_FragColor = color;\n",
    "        }\n",
    "        \"\"\""
   ]
  },
  {
   "cell_type": "markdown",
   "metadata": {},
   "source": [
    "### Requisitando slot para a GPU para nossos programas *Vertex* e *Fragment Shaders*"
   ]
  },
  {
   "cell_type": "code",
   "execution_count": null,
   "metadata": {},
   "outputs": [],
   "source": [
    "# Request a program and shader slots from GPU\n",
    "program  = glCreateProgram()\n",
    "vertex   = glCreateShader(GL_VERTEX_SHADER)\n",
    "fragment = glCreateShader(GL_FRAGMENT_SHADER)"
   ]
  },
  {
   "cell_type": "markdown",
   "metadata": {},
   "source": [
    "### Associando nosso código-fonte aos slots solicitados"
   ]
  },
  {
   "cell_type": "code",
   "execution_count": null,
   "metadata": {},
   "outputs": [],
   "source": [
    "# Set shaders source\n",
    "glShaderSource(vertex, vertex_code)\n",
    "glShaderSource(fragment, fragment_code)"
   ]
  },
  {
   "cell_type": "markdown",
   "metadata": {},
   "source": [
    "### Compilando o *Vertex Shader*\n",
    "Se há algum erro em nosso programa *Vertex Shader*, nosso app para por aqui."
   ]
  },
  {
   "cell_type": "code",
   "execution_count": null,
   "metadata": {},
   "outputs": [],
   "source": [
    "# Compile shaders\n",
    "glCompileShader(vertex)\n",
    "if not glGetShaderiv(vertex, GL_COMPILE_STATUS):\n",
    "    error = glGetShaderInfoLog(vertex).decode()\n",
    "    print(error)\n",
    "    raise RuntimeError(\"Erro de compilacao do Vertex Shader\")"
   ]
  },
  {
   "cell_type": "markdown",
   "metadata": {},
   "source": [
    "### Compilando o *Fragment Shader*\n",
    "Se há algum erro em nosso programa *Fragment Shader*, nosso app para por aqui."
   ]
  },
  {
   "cell_type": "code",
   "execution_count": null,
   "metadata": {},
   "outputs": [],
   "source": [
    "glCompileShader(fragment)\n",
    "if not glGetShaderiv(fragment, GL_COMPILE_STATUS):\n",
    "    error = glGetShaderInfoLog(fragment).decode()\n",
    "    print(error)\n",
    "    raise RuntimeError(\"Erro de compilacao do Fragment Shader\")"
   ]
  },
  {
   "cell_type": "markdown",
   "metadata": {},
   "source": [
    "### Associando os programas compilados ao programa principal"
   ]
  },
  {
   "cell_type": "code",
   "execution_count": null,
   "metadata": {},
   "outputs": [],
   "source": [
    "# Attach shader objects to the program\n",
    "glAttachShader(program, vertex)\n",
    "glAttachShader(program, fragment)"
   ]
  },
  {
   "cell_type": "markdown",
   "metadata": {},
   "source": [
    "### Linkagem do programa"
   ]
  },
  {
   "cell_type": "code",
   "execution_count": null,
   "metadata": {},
   "outputs": [],
   "source": [
    "# Build program\n",
    "glLinkProgram(program)\n",
    "if not glGetProgramiv(program, GL_LINK_STATUS):\n",
    "    print(glGetProgramInfoLog(program))\n",
    "    raise RuntimeError('Linking error')\n",
    "    \n",
    "# Make program the default program\n",
    "glUseProgram(program)"
   ]
  },
  {
   "cell_type": "markdown",
   "metadata": {},
   "source": [
    "### Preparando dados para enviar à GPU\n",
    "Nesse momento, compilamos nossos *Vertex* e *Fragment Shaders* para que a GPU possa processá-los.\n",
    "\n",
    "Por outro lado, as informações de vértices geralmente estão na CPU e devem ser transmitidas para a GPU.\n",
    "### Modelando um Cilindro"
   ]
  },
  {
   "cell_type": "code",
   "execution_count": null,
   "metadata": {},
   "outputs": [],
   "source": [
    "import math\n",
    "\n",
    "\n",
    "PI = 3.141592\n",
    "r = 0.5 # raio\n",
    "H = 0.6\n",
    "num_sectors = 50 # qtd de sectors (longitude)\n",
    "num_stacks = 50 # qtd de stacks (latitude)\n",
    "\n",
    "# grid sectos vs stacks (longitude vs latitude)\n",
    "sector_step = (PI*2)/num_sectors # variar de 0 até 2π\n",
    "stack_step = H/num_stacks # variar de 0 até H\n",
    "\n",
    "# Entrada: angulo de t, altura h, raio r\n",
    "# Saida: coordenadas no cilindro\n",
    "def CoordCilindro(t, h, r):\n",
    "    x = r * math.cos(t)\n",
    "    y = r * math.sin(t)\n",
    "    z = h\n",
    "    return (x,y,z)\n",
    "\n",
    "# vamos gerar um conjunto de vertices representantes poligonos\n",
    "# para a superficie da esfera.\n",
    "# cada poligono eh representado por dois triangulos\n",
    "vertices_list = []\n",
    "for j in range(0,num_stacks): # para cada stack (latitude)\n",
    "    \n",
    "    for i in range(0,num_sectors): # para cada sector (longitude) \n",
    "        \n",
    "        u = i * sector_step # angulo setor\n",
    "        v = j * stack_step # altura da stack\n",
    "        \n",
    "        un = 0 # angulo do proximo sector\n",
    "        if i+1==num_sectors:\n",
    "            un = PI*2\n",
    "        else: un = (i+1)*sector_step\n",
    "            \n",
    "        vn = 0 # altura da proxima stack\n",
    "        if j+1==num_stacks:\n",
    "            vn = H\n",
    "        else: vn = (j+1)*stack_step\n",
    "        \n",
    "        # verticies do poligono\n",
    "        p0=CoordCilindro(u, v, r)\n",
    "        p1=CoordCilindro(u, vn, r)\n",
    "        p2=CoordCilindro(un, v, r)\n",
    "        p3=CoordCilindro(un, vn, r)\n",
    "        \n",
    "        # triangulo 1 (primeira parte do poligono)\n",
    "        vertices_list.append(p0)\n",
    "        vertices_list.append(p2)\n",
    "        vertices_list.append(p1)\n",
    "        \n",
    "        # triangulo 2 (segunda e ultima parte do poligono)\n",
    "        vertices_list.append(p3)\n",
    "        vertices_list.append(p1)\n",
    "        vertices_list.append(p2)\n",
    "        \n",
    "        print(v)\n",
    "        \n",
    "        if v == 0:\n",
    "            vertices_list.append(p0)\n",
    "            vertices_list.append(p2)\n",
    "            vertices_list.append(CoordCilindro(0, v, 0))\n",
    "        if vn == H:\n",
    "            #faz um triangulo a partir do mesmo angulo u, mas com as alturas em h = vn\n",
    "            vertices_list.append(p1)\n",
    "            vertices_list.append(p3)\n",
    "            vertices_list.append(CoordCilindro(0, vn, 0))\n",
    "\n",
    "total_vertices = len(vertices_list)\n",
    "vertices = np.zeros(total_vertices, [(\"position\", np.float32, 3)])\n",
    "vertices['position'] = np.array(vertices_list)\n",
    "\n",
    "for v in vertices:\n",
    "    print(v)"
   ]
  },
  {
   "cell_type": "markdown",
   "metadata": {},
   "source": [
    "### Para enviar nossos dados da CPU para a GPU, precisamos requisitar um slot."
   ]
  },
  {
   "cell_type": "code",
   "execution_count": null,
   "metadata": {},
   "outputs": [],
   "source": [
    "# Request a buffer slot from GPU\n",
    "buffer = glGenBuffers(1)\n",
    "# Make this buffer the default one\n",
    "glBindBuffer(GL_ARRAY_BUFFER, buffer)"
   ]
  },
  {
   "cell_type": "markdown",
   "metadata": {},
   "source": [
    "### Abaixo, enviamos todo o conteúdo da variável `vertices`\n",
    "Veja os parâmetros da função `glBufferData` [https://www.khronos.org/registry/OpenGL-Refpages/gl4/html/glBufferData.xhtml]"
   ]
  },
  {
   "cell_type": "code",
   "execution_count": null,
   "metadata": {},
   "outputs": [],
   "source": [
    "# Upload data\n",
    "glBufferData(GL_ARRAY_BUFFER, vertices.nbytes, vertices, GL_DYNAMIC_DRAW)\n",
    "glBindBuffer(GL_ARRAY_BUFFER, buffer)"
   ]
  },
  {
   "cell_type": "markdown",
   "metadata": {},
   "source": [
    "### Associando variáveis do programa `GLSL` (*Vertex Shaders*) com nossos dados\n",
    "Primeiro, definimos o byte inicial e o offset dos dados."
   ]
  },
  {
   "cell_type": "code",
   "execution_count": null,
   "metadata": {},
   "outputs": [],
   "source": [
    "# Bind the position attribute\n",
    "# --------------------------------------\n",
    "stride = vertices.strides[0]\n",
    "offset = ctypes.c_void_p(0)"
   ]
  },
  {
   "cell_type": "markdown",
   "metadata": {},
   "source": [
    "Em seguida, soliciamos à GPU a localização da variável `position` (que guarda coordenadas dos nossos vértices). Definimos essa variável no *Vertex Shader*."
   ]
  },
  {
   "cell_type": "code",
   "execution_count": null,
   "metadata": {},
   "outputs": [],
   "source": [
    "loc = glGetAttribLocation(program, \"position\")\n",
    "glEnableVertexAttribArray(loc)"
   ]
  },
  {
   "cell_type": "markdown",
   "metadata": {},
   "source": [
    "A partir da localização anterior, indicamos à GPU onde está o conteúdo (via posições stride/offset) para a variável `position` (aqui identificada na posição `loc`).\n",
    "\n",
    "Outros parâmetros:\n",
    "* Definimos que possui duas coordenadas.\n",
    "* Que cada coordenada é do tipo `float` (`GL_FLOAT`).\n",
    "* Que não se deve normalizar a coordenada (`False`).\n",
    "\n",
    "Mais detalhes: https://www.khronos.org/registry/OpenGL-Refpages/gl4/html/glVertexAttribPointer.xhtml"
   ]
  },
  {
   "cell_type": "code",
   "execution_count": null,
   "metadata": {},
   "outputs": [],
   "source": [
    "glVertexAttribPointer(loc, 3, GL_FLOAT, False, stride, offset)"
   ]
  },
  {
   "cell_type": "markdown",
   "metadata": {},
   "source": [
    "###  Pegamos a localização da variável `color` (`uniform`) do *Fragment Shader* para que possamos alterá-la em nosso laço da janela."
   ]
  },
  {
   "cell_type": "code",
   "execution_count": null,
   "metadata": {},
   "outputs": [],
   "source": [
    "loc_color = glGetUniformLocation(program, \"color\")"
   ]
  },
  {
   "cell_type": "markdown",
   "metadata": {},
   "source": [
    "### Nesse momento, exibimos a janela."
   ]
  },
  {
   "cell_type": "code",
   "execution_count": null,
   "metadata": {},
   "outputs": [],
   "source": [
    "glfw.show_window(window)"
   ]
  },
  {
   "cell_type": "markdown",
   "metadata": {},
   "source": [
    "### Loop principal da janela.\n",
    "Enquanto a janela não for fechada, esse laço será executado. É neste espaço que trabalhamos com algumas interações com a `OpenGL`.\n",
    "\n",
    "Usaremos o `GL_TRIANGLE` para modelar os triângulos (que formarão outros polígonos) da superfície da nosso cilindro."
   ]
  },
  {
   "cell_type": "code",
   "execution_count": null,
   "metadata": {},
   "outputs": [],
   "source": [
    "import math\n",
    "import random\n",
    "d = 0.0\n",
    "glEnable(GL_DEPTH_TEST) ### importante para 3D\n",
    "\n",
    "def multiplica_matriz(a,b):\n",
    "    m_a = a.reshape(4,4)\n",
    "    m_b = b.reshape(4,4)\n",
    "    m_c = np.dot(m_a,m_b)\n",
    "    c = m_c.reshape(1,16)\n",
    "    return c\n",
    "\n",
    "while not glfw.window_should_close(window):\n",
    "\n",
    "    glfw.poll_events() \n",
    "    \n",
    "    ### apenas para visualizarmos a esfera rotacionando\n",
    "    d -= 0.01 # modifica o angulo de rotacao em cada iteracao\n",
    "    cos_d = math.cos(d)\n",
    "    sin_d = math.sin(d)\n",
    "    \n",
    "    \n",
    "    glClear(GL_COLOR_BUFFER_BIT | GL_DEPTH_BUFFER_BIT)\n",
    "    \n",
    "    glClearColor(1.0, 1.0, 1.0, 1.0)\n",
    "    \n",
    "    mat_rotation_z = np.array([     cos_d, -sin_d, 0.0, 0.0, \n",
    "                                    sin_d,  cos_d, 0.0, 0.0, \n",
    "                                    0.0,      0.0, 1.0, 0.0, \n",
    "                                    0.0,      0.0, 0.0, 1.0], np.float32)\n",
    "    \n",
    "    mat_rotation_x = np.array([     1.0,   0.0,    0.0, 0.0, \n",
    "                                    0.0, cos_d, -sin_d, 0.0, \n",
    "                                    0.0, sin_d,  cos_d, 0.0, \n",
    "                                    0.0,   0.0,    0.0, 1.0], np.float32)\n",
    "    \n",
    "    mat_rotation_y = np.array([     cos_d,  0.0, sin_d, 0.0, \n",
    "                                    0.0,    1.0,   0.0, 0.0, \n",
    "                                    -sin_d, 0.0, cos_d, 0.0, \n",
    "                                    0.0,    0.0,   0.0, 1.0], np.float32)\n",
    "    \n",
    "    mat_transform = multiplica_matriz(mat_rotation_z,mat_rotation_x)\n",
    "    mat_transform = multiplica_matriz(mat_rotation_y,mat_transform)\n",
    "\n",
    "    loc = glGetUniformLocation(program, \"mat_transformation\")\n",
    "    glUniformMatrix4fv(loc, 1, GL_TRUE, mat_transform)\n",
    "\n",
    "    #glPolygonMode(GL_FRONT_AND_BACK,GL_LINE)\n",
    "    \n",
    "    for triangle in range(0,len(vertices),3):\n",
    "       \n",
    "        random.seed( triangle )\n",
    "        R = random.random()\n",
    "        G = random.random()\n",
    "        B = random.random()  \n",
    "        glUniform4f(loc_color, R, G, B, 1.0)\n",
    "        \n",
    "        glDrawArrays(GL_TRIANGLES, triangle, 3)     \n",
    "\n",
    "\n",
    "    \n",
    "    glfw.swap_buffers(window)\n",
    "\n",
    "glfw.terminate()"
   ]
  },
  {
   "cell_type": "markdown",
   "metadata": {},
   "source": [
    "# Exercício\n",
    "Modifique esse código para aplicar outras transformações (de sua escolha) conforme eventos do teclado."
   ]
  }
 ],
 "metadata": {
  "finalized": {
   "timestamp": 1583114796072,
   "trusted": true
  },
  "kernelspec": {
   "display_name": "Python 3 (ipykernel)",
   "language": "python",
   "name": "python3"
  },
  "language_info": {
   "codemirror_mode": {
    "name": "ipython",
    "version": 3
   },
   "file_extension": ".py",
   "mimetype": "text/x-python",
   "name": "python",
   "nbconvert_exporter": "python",
   "pygments_lexer": "ipython3",
   "version": "3.9.13"
  }
 },
 "nbformat": 4,
 "nbformat_minor": 2
}
