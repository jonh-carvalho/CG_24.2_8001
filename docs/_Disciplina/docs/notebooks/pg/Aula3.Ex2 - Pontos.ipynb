{
 "cells": [
  {
   "cell_type": "markdown",
   "metadata": {},
   "source": [
    "# Aula3.Ex2 - Pontos\n",
    "### Primeiro, importamos as bibliotecas necessárias.\n",
    "Verifique no código anterior um script para instalar as dependências necessárias (`OpenGL` e `GLFW`) antes de prosseguir."
   ]
  },
  {
   "cell_type": "code",
   "execution_count": 1,
   "metadata": {},
   "outputs": [],
   "source": [
    "import glfw\n",
    "from OpenGL.GL import *\n",
    "import OpenGL.GL.shaders\n",
    "import numpy as np"
   ]
  },
  {
   "cell_type": "markdown",
   "metadata": {},
   "source": [
    "### Inicializando janela"
   ]
  },
  {
   "cell_type": "code",
   "execution_count": 2,
   "metadata": {},
   "outputs": [],
   "source": [
    "glfw.init()\n",
    "glfw.window_hint(glfw.VISIBLE, glfw.FALSE);\n",
    "window = glfw.create_window(720, 600, \"Pontos\", None, None)\n",
    "glfw.make_context_current(window)"
   ]
  },
  {
   "cell_type": "markdown",
   "metadata": {},
   "source": [
    "### Capturando eventos de teclado e mouse"
   ]
  },
  {
   "cell_type": "code",
   "execution_count": 3,
   "metadata": {},
   "outputs": [],
   "source": [
    "def key_event(window,key,scancode,action,mods):\n",
    "    print('[key event] key=',key)\n",
    "    print('[key event] scancode=',scancode)\n",
    "    print('[key event] action=',action)\n",
    "    print('[key event] mods=',mods)\n",
    "    print('-------')\n",
    "    \n",
    "glfw.set_key_callback(window,key_event)\n",
    "\n",
    "def mouse_event(window,button,action,mods):\n",
    "    print('[mouse event] button=',button)\n",
    "    print('[mouse event] action=',action)\n",
    "    print('[mouse event] mods=',mods)\n",
    "    print('-------')\n",
    "glfw.set_mouse_button_callback(window,mouse_event)"
   ]
  },
  {
   "cell_type": "markdown",
   "metadata": {},
   "source": [
    "### `GLSL` (*OpenGL Shading Language*)\n",
    "Aqui, veremos nosso primeiro código `GLSL`.\n",
    "\n",
    "É uma linguagem de *shading* de alto nível baseada na linguagem de programação `C`.\n",
    "\n",
    "Estamos escrevendo código `GLSL` como *strings* de uma variável (mas podemos ler de arquivos texto). Esse código, depois, terá que ser compilado e linkado ao nosso programa. \n",
    "\n",
    "Aprenderemos `GLSL` conforme a necessidade do curso. Usaremos uma versão do `GLSL` mais antiga, compatível com muitos dispositivos.\n",
    "### `GLSL` para *Vertex Shader*\n",
    "No Pipeline programável, podemos interagir com *Vertex Shaders*.\n",
    "\n",
    "No código abaixo, estamos fazendo o seguinte:\n",
    "\n",
    "* Definindo uma variável chamada `position` do tipo `vec2`.\n",
    "* Usamos `vec2`, pois nosso programa (na CPU) irá enviar apenas duas coordenadas para plotar um ponto. Podemos mandar três coordenadas (`vec3`) e até mesmo quatro coordenadas (`vec4`).\n",
    "* `void main()` é o ponto de entrada do nosso programa (função principal),\n",
    "* `gl_Position` é uma variável especial do `GLSL`. Variáveis que começam com `gl_` são desse tipo. Nesse caso, determina a posição de um vértice. Observe que todo vértice tem $4$ coordenadas, por isso combinamos nossa variável `vec2` com uma variável `vec4`."
   ]
  },
  {
   "cell_type": "code",
   "execution_count": 4,
   "metadata": {},
   "outputs": [],
   "source": [
    "vertex_code = \"\"\"\n",
    "        attribute vec2 position;\n",
    "        void main(){\n",
    "            gl_Position = vec4(position,0.0,1.0);\n",
    "        }\n",
    "        \"\"\""
   ]
  },
  {
   "cell_type": "markdown",
   "metadata": {},
   "source": [
    "### `GLSL` para *Fragment Shader*\n",
    "No Pipeline programável, podemos interagir com *Fragment Shaders*.\n",
    "\n",
    "No código abaixo, estamos fazendo o seguinte:\n",
    "\n",
    "* `void main()` é o ponto de entrada do nosso programa (função principal).\n",
    "* `gl_FragColor` é uma variável especial do `GLSL`. Variáveis que começam com `gl_` são desse tipo. Neste caso, determina a cor de um fragmento. Neste caso é um ponto, mas poderia ser outro objeto (ponto, linha, triângulos, etc)."
   ]
  },
  {
   "cell_type": "code",
   "execution_count": 5,
   "metadata": {},
   "outputs": [],
   "source": [
    "fragment_code = \"\"\"\n",
    "        void main(){\n",
    "            gl_FragColor = vec4(0.0, 0.0, 0.0, 1.0);\n",
    "        }\n",
    "        \"\"\""
   ]
  },
  {
   "cell_type": "markdown",
   "metadata": {},
   "source": [
    "### Requisitando slot para a GPU para nossos programas *Vertex* e *Fragment Shaders*"
   ]
  },
  {
   "cell_type": "code",
   "execution_count": 6,
   "metadata": {},
   "outputs": [],
   "source": [
    "# Request a program and shader slots from GPU\n",
    "program  = glCreateProgram()\n",
    "vertex   = glCreateShader(GL_VERTEX_SHADER)\n",
    "fragment = glCreateShader(GL_FRAGMENT_SHADER)"
   ]
  },
  {
   "cell_type": "markdown",
   "metadata": {},
   "source": [
    "### Associando nosso código-fonte aos slots solicitados"
   ]
  },
  {
   "cell_type": "code",
   "execution_count": 7,
   "metadata": {},
   "outputs": [],
   "source": [
    "# Set shaders source\n",
    "glShaderSource(vertex, vertex_code)\n",
    "glShaderSource(fragment, fragment_code)"
   ]
  },
  {
   "cell_type": "markdown",
   "metadata": {},
   "source": [
    "### Compilando o *Vertex Shader*\n",
    "Se há algum erro em nosso programa *Vertex Shader*, nosso app para por aqui."
   ]
  },
  {
   "cell_type": "code",
   "execution_count": 8,
   "metadata": {},
   "outputs": [
    {
     "ename": "ValueError",
     "evalue": "numpy.dtype size changed, may indicate binary incompatibility. Expected 96 from C header, got 88 from PyObject",
     "output_type": "error",
     "traceback": [
      "\u001b[1;31m---------------------------------------------------------------------------\u001b[0m",
      "\u001b[1;31mValueError\u001b[0m                                Traceback (most recent call last)",
      "Cell \u001b[1;32mIn[8], line 3\u001b[0m\n\u001b[0;32m      1\u001b[0m \u001b[38;5;66;03m# Compile shaders\u001b[39;00m\n\u001b[0;32m      2\u001b[0m glCompileShader(vertex)\n\u001b[1;32m----> 3\u001b[0m \u001b[38;5;28;01mif\u001b[39;00m \u001b[38;5;129;01mnot\u001b[39;00m \u001b[43mglGetShaderiv\u001b[49m\u001b[43m(\u001b[49m\u001b[43mvertex\u001b[49m\u001b[43m,\u001b[49m\u001b[43m \u001b[49m\u001b[43mGL_COMPILE_STATUS\u001b[49m\u001b[43m)\u001b[49m:\n\u001b[0;32m      4\u001b[0m     error \u001b[38;5;241m=\u001b[39m glGetShaderInfoLog(vertex)\u001b[38;5;241m.\u001b[39mdecode()\n\u001b[0;32m      5\u001b[0m     \u001b[38;5;28mprint\u001b[39m(error)\n",
      "File \u001b[1;32msrc\\latebind.pyx:51\u001b[0m, in \u001b[0;36mOpenGL_accelerate.latebind.Curry.__call__\u001b[1;34m()\u001b[0m\n",
      "File \u001b[1;32mf:\\Apps\\source\\repos\\cg\\cuda\\.venv\\lib\\site-packages\\OpenGL\\GL\\VERSION\\GL_2_0.py:268\u001b[0m, in \u001b[0;36mglGetShaderiv\u001b[1;34m(baseOperation, shader, pname, status)\u001b[0m\n\u001b[0;32m    256\u001b[0m \u001b[38;5;250m\u001b[39m\u001b[38;5;124;03m\"\"\"Retrieve the integer parameter for the given shader\u001b[39;00m\n\u001b[0;32m    257\u001b[0m \n\u001b[0;32m    258\u001b[0m \u001b[38;5;124;03mshader -- shader ID to query\u001b[39;00m\n\u001b[1;32m   (...)\u001b[0m\n\u001b[0;32m    265\u001b[0m \u001b[38;5;124;03m    status if status parameter is not None\u001b[39;00m\n\u001b[0;32m    266\u001b[0m \u001b[38;5;124;03m\"\"\"\u001b[39;00m\n\u001b[0;32m    267\u001b[0m \u001b[38;5;28;01mif\u001b[39;00m status \u001b[38;5;129;01mis\u001b[39;00m \u001b[38;5;28;01mNone\u001b[39;00m:\n\u001b[1;32m--> 268\u001b[0m     status \u001b[38;5;241m=\u001b[39m \u001b[43marrays\u001b[49m\u001b[38;5;241;43m.\u001b[39;49m\u001b[43mGLintArray\u001b[49m\u001b[38;5;241;43m.\u001b[39;49m\u001b[43mzeros\u001b[49m\u001b[43m(\u001b[49m\u001b[43m \u001b[49m\u001b[43m(\u001b[49m\u001b[38;5;241;43m1\u001b[39;49m\u001b[43m,\u001b[49m\u001b[43m)\u001b[49m\u001b[43m)\u001b[49m\n\u001b[0;32m    269\u001b[0m     status[\u001b[38;5;241m0\u001b[39m] \u001b[38;5;241m=\u001b[39m \u001b[38;5;241m1\u001b[39m\n\u001b[0;32m    270\u001b[0m     baseOperation(\n\u001b[0;32m    271\u001b[0m         shader, pname, status\n\u001b[0;32m    272\u001b[0m     )\n",
      "File \u001b[1;32msrc\\arraydatatype.pyx:219\u001b[0m, in \u001b[0;36mOpenGL_accelerate.arraydatatype.ArrayDatatype.zeros\u001b[1;34m()\u001b[0m\n",
      "File \u001b[1;32msrc\\arraydatatype.pyx:224\u001b[0m, in \u001b[0;36mOpenGL_accelerate.arraydatatype.ArrayDatatype.c_zeros\u001b[1;34m()\u001b[0m\n",
      "File \u001b[1;32msrc\\arraydatatype.pyx:69\u001b[0m, in \u001b[0;36mOpenGL_accelerate.arraydatatype.HandlerRegistry.c_get_output_handler\u001b[1;34m()\u001b[0m\n",
      "File \u001b[1;32msrc\\arraydatatype.pyx:80\u001b[0m, in \u001b[0;36mOpenGL_accelerate.arraydatatype.HandlerRegistry.c_handler_by_plugin_name\u001b[1;34m()\u001b[0m\n",
      "File \u001b[1;32mf:\\Apps\\source\\repos\\cg\\cuda\\.venv\\lib\\site-packages\\OpenGL\\plugins.py:18\u001b[0m, in \u001b[0;36mPlugin.load\u001b[1;34m(self)\u001b[0m\n\u001b[0;32m     16\u001b[0m \u001b[38;5;250m\u001b[39m\u001b[38;5;124;03m\"\"\"Attempt to load and return our entry point\"\"\"\u001b[39;00m\n\u001b[0;32m     17\u001b[0m \u001b[38;5;28;01mtry\u001b[39;00m:\n\u001b[1;32m---> 18\u001b[0m     \u001b[38;5;28;01mreturn\u001b[39;00m \u001b[43mimportByName\u001b[49m\u001b[43m(\u001b[49m\u001b[43m \u001b[49m\u001b[38;5;28;43mself\u001b[39;49m\u001b[38;5;241;43m.\u001b[39;49m\u001b[43mimport_path\u001b[49m\u001b[43m \u001b[49m\u001b[43m)\u001b[49m\n\u001b[0;32m     19\u001b[0m \u001b[38;5;28;01mexcept\u001b[39;00m \u001b[38;5;167;01mImportError\u001b[39;00m \u001b[38;5;28;01mas\u001b[39;00m err:\n\u001b[0;32m     20\u001b[0m     log\u001b[38;5;241m.\u001b[39mwarning(\n\u001b[0;32m     21\u001b[0m         \u001b[38;5;124m'\u001b[39m\u001b[38;5;124mUnable to import \u001b[39m\u001b[38;5;132;01m%s\u001b[39;00m\u001b[38;5;124m: \u001b[39m\u001b[38;5;132;01m%s\u001b[39;00m\u001b[38;5;124m'\u001b[39m,\n\u001b[0;32m     22\u001b[0m         \u001b[38;5;28mself\u001b[39m\u001b[38;5;241m.\u001b[39mimport_path,\n\u001b[0;32m     23\u001b[0m         err\n\u001b[0;32m     24\u001b[0m     )\n",
      "File \u001b[1;32mf:\\Apps\\source\\repos\\cg\\cuda\\.venv\\lib\\site-packages\\OpenGL\\plugins.py:45\u001b[0m, in \u001b[0;36mimportByName\u001b[1;34m(fullName)\u001b[0m\n\u001b[0;32m     43\u001b[0m moduleName \u001b[38;5;241m=\u001b[39m name[:\u001b[38;5;241m-\u001b[39m\u001b[38;5;241m1\u001b[39m]\n\u001b[0;32m     44\u001b[0m className \u001b[38;5;241m=\u001b[39m name[\u001b[38;5;241m-\u001b[39m\u001b[38;5;241m1\u001b[39m]\n\u001b[1;32m---> 45\u001b[0m module \u001b[38;5;241m=\u001b[39m \u001b[38;5;28;43m__import__\u001b[39;49m\u001b[43m(\u001b[49m\u001b[43m \u001b[49m\u001b[38;5;124;43m\"\u001b[39;49m\u001b[38;5;124;43m.\u001b[39;49m\u001b[38;5;124;43m\"\u001b[39;49m\u001b[38;5;241;43m.\u001b[39;49m\u001b[43mjoin\u001b[49m\u001b[43m(\u001b[49m\u001b[43mmoduleName\u001b[49m\u001b[43m)\u001b[49m\u001b[43m,\u001b[49m\u001b[43m \u001b[49m\u001b[43m{\u001b[49m\u001b[43m}\u001b[49m\u001b[43m,\u001b[49m\u001b[43m \u001b[49m\u001b[43m{\u001b[49m\u001b[43m}\u001b[49m\u001b[43m,\u001b[49m\u001b[43m \u001b[49m\u001b[43mmoduleName\u001b[49m\u001b[43m)\u001b[49m\n\u001b[0;32m     46\u001b[0m \u001b[38;5;28;01mreturn\u001b[39;00m \u001b[38;5;28mgetattr\u001b[39m( module, className )\n",
      "File \u001b[1;32mf:\\Apps\\source\\repos\\cg\\cuda\\.venv\\lib\\site-packages\\OpenGL\\arrays\\numpymodule.py:28\u001b[0m\n\u001b[0;32m     26\u001b[0m \u001b[38;5;28;01mif\u001b[39;00m acceleratesupport\u001b[38;5;241m.\u001b[39mACCELERATE_AVAILABLE:\n\u001b[0;32m     27\u001b[0m     \u001b[38;5;28;01mtry\u001b[39;00m:\n\u001b[1;32m---> 28\u001b[0m         \u001b[38;5;28;01mfrom\u001b[39;00m \u001b[38;5;21;01mOpenGL_accelerate\u001b[39;00m\u001b[38;5;21;01m.\u001b[39;00m\u001b[38;5;21;01mnumpy_formathandler\u001b[39;00m \u001b[38;5;28;01mimport\u001b[39;00m NumpyHandler\n\u001b[0;32m     29\u001b[0m     \u001b[38;5;28;01mexcept\u001b[39;00m \u001b[38;5;167;01mImportError\u001b[39;00m \u001b[38;5;28;01mas\u001b[39;00m err:\n\u001b[0;32m     30\u001b[0m         _log\u001b[38;5;241m.\u001b[39mwarning(\n\u001b[0;32m     31\u001b[0m             \u001b[38;5;124m\"\u001b[39m\u001b[38;5;124mUnable to load numpy_formathandler accelerator from OpenGL_accelerate\u001b[39m\u001b[38;5;124m\"\u001b[39m\n\u001b[0;32m     32\u001b[0m         )\n",
      "File \u001b[1;32msrc\\numpy_formathandler.pyx:1\u001b[0m, in \u001b[0;36minit OpenGL_accelerate.numpy_formathandler\u001b[1;34m()\u001b[0m\n",
      "\u001b[1;31mValueError\u001b[0m: numpy.dtype size changed, may indicate binary incompatibility. Expected 96 from C header, got 88 from PyObject"
     ]
    }
   ],
   "source": [
    "# Compile shaders\n",
    "glCompileShader(vertex)\n",
    "if not glGetShaderiv(vertex, GL_COMPILE_STATUS):\n",
    "    error = glGetShaderInfoLog(vertex).decode()\n",
    "    print(error)\n",
    "    raise RuntimeError(\"Erro de compilacao do Vertex Shader\")"
   ]
  },
  {
   "cell_type": "markdown",
   "metadata": {},
   "source": [
    "### Compilando o *Fragment Shader*\n",
    "Se há algum erro em nosso programa *Fragment Shader*, nosso app para por aqui."
   ]
  },
  {
   "cell_type": "code",
   "execution_count": 9,
   "metadata": {},
   "outputs": [
    {
     "ename": "ValueError",
     "evalue": "numpy.dtype size changed, may indicate binary incompatibility. Expected 96 from C header, got 88 from PyObject",
     "output_type": "error",
     "traceback": [
      "\u001b[1;31m---------------------------------------------------------------------------\u001b[0m",
      "\u001b[1;31mValueError\u001b[0m                                Traceback (most recent call last)",
      "Cell \u001b[1;32mIn[9], line 2\u001b[0m\n\u001b[0;32m      1\u001b[0m glCompileShader(fragment)\n\u001b[1;32m----> 2\u001b[0m \u001b[38;5;28;01mif\u001b[39;00m \u001b[38;5;129;01mnot\u001b[39;00m \u001b[43mglGetShaderiv\u001b[49m\u001b[43m(\u001b[49m\u001b[43mfragment\u001b[49m\u001b[43m,\u001b[49m\u001b[43m \u001b[49m\u001b[43mGL_COMPILE_STATUS\u001b[49m\u001b[43m)\u001b[49m:\n\u001b[0;32m      3\u001b[0m     error \u001b[38;5;241m=\u001b[39m glGetShaderInfoLog(fragment)\u001b[38;5;241m.\u001b[39mdecode()\n\u001b[0;32m      4\u001b[0m     \u001b[38;5;28mprint\u001b[39m(error)\n",
      "File \u001b[1;32msrc\\latebind.pyx:51\u001b[0m, in \u001b[0;36mOpenGL_accelerate.latebind.Curry.__call__\u001b[1;34m()\u001b[0m\n",
      "File \u001b[1;32mf:\\Apps\\source\\repos\\cg\\cuda\\.venv\\lib\\site-packages\\OpenGL\\GL\\VERSION\\GL_2_0.py:268\u001b[0m, in \u001b[0;36mglGetShaderiv\u001b[1;34m(baseOperation, shader, pname, status)\u001b[0m\n\u001b[0;32m    256\u001b[0m \u001b[38;5;250m\u001b[39m\u001b[38;5;124;03m\"\"\"Retrieve the integer parameter for the given shader\u001b[39;00m\n\u001b[0;32m    257\u001b[0m \n\u001b[0;32m    258\u001b[0m \u001b[38;5;124;03mshader -- shader ID to query\u001b[39;00m\n\u001b[1;32m   (...)\u001b[0m\n\u001b[0;32m    265\u001b[0m \u001b[38;5;124;03m    status if status parameter is not None\u001b[39;00m\n\u001b[0;32m    266\u001b[0m \u001b[38;5;124;03m\"\"\"\u001b[39;00m\n\u001b[0;32m    267\u001b[0m \u001b[38;5;28;01mif\u001b[39;00m status \u001b[38;5;129;01mis\u001b[39;00m \u001b[38;5;28;01mNone\u001b[39;00m:\n\u001b[1;32m--> 268\u001b[0m     status \u001b[38;5;241m=\u001b[39m \u001b[43marrays\u001b[49m\u001b[38;5;241;43m.\u001b[39;49m\u001b[43mGLintArray\u001b[49m\u001b[38;5;241;43m.\u001b[39;49m\u001b[43mzeros\u001b[49m\u001b[43m(\u001b[49m\u001b[43m \u001b[49m\u001b[43m(\u001b[49m\u001b[38;5;241;43m1\u001b[39;49m\u001b[43m,\u001b[49m\u001b[43m)\u001b[49m\u001b[43m)\u001b[49m\n\u001b[0;32m    269\u001b[0m     status[\u001b[38;5;241m0\u001b[39m] \u001b[38;5;241m=\u001b[39m \u001b[38;5;241m1\u001b[39m\n\u001b[0;32m    270\u001b[0m     baseOperation(\n\u001b[0;32m    271\u001b[0m         shader, pname, status\n\u001b[0;32m    272\u001b[0m     )\n",
      "File \u001b[1;32msrc\\arraydatatype.pyx:219\u001b[0m, in \u001b[0;36mOpenGL_accelerate.arraydatatype.ArrayDatatype.zeros\u001b[1;34m()\u001b[0m\n",
      "File \u001b[1;32msrc\\arraydatatype.pyx:224\u001b[0m, in \u001b[0;36mOpenGL_accelerate.arraydatatype.ArrayDatatype.c_zeros\u001b[1;34m()\u001b[0m\n",
      "File \u001b[1;32msrc\\arraydatatype.pyx:69\u001b[0m, in \u001b[0;36mOpenGL_accelerate.arraydatatype.HandlerRegistry.c_get_output_handler\u001b[1;34m()\u001b[0m\n",
      "File \u001b[1;32msrc\\arraydatatype.pyx:80\u001b[0m, in \u001b[0;36mOpenGL_accelerate.arraydatatype.HandlerRegistry.c_handler_by_plugin_name\u001b[1;34m()\u001b[0m\n",
      "File \u001b[1;32mf:\\Apps\\source\\repos\\cg\\cuda\\.venv\\lib\\site-packages\\OpenGL\\plugins.py:18\u001b[0m, in \u001b[0;36mPlugin.load\u001b[1;34m(self)\u001b[0m\n\u001b[0;32m     16\u001b[0m \u001b[38;5;250m\u001b[39m\u001b[38;5;124;03m\"\"\"Attempt to load and return our entry point\"\"\"\u001b[39;00m\n\u001b[0;32m     17\u001b[0m \u001b[38;5;28;01mtry\u001b[39;00m:\n\u001b[1;32m---> 18\u001b[0m     \u001b[38;5;28;01mreturn\u001b[39;00m \u001b[43mimportByName\u001b[49m\u001b[43m(\u001b[49m\u001b[43m \u001b[49m\u001b[38;5;28;43mself\u001b[39;49m\u001b[38;5;241;43m.\u001b[39;49m\u001b[43mimport_path\u001b[49m\u001b[43m \u001b[49m\u001b[43m)\u001b[49m\n\u001b[0;32m     19\u001b[0m \u001b[38;5;28;01mexcept\u001b[39;00m \u001b[38;5;167;01mImportError\u001b[39;00m \u001b[38;5;28;01mas\u001b[39;00m err:\n\u001b[0;32m     20\u001b[0m     log\u001b[38;5;241m.\u001b[39mwarning(\n\u001b[0;32m     21\u001b[0m         \u001b[38;5;124m'\u001b[39m\u001b[38;5;124mUnable to import \u001b[39m\u001b[38;5;132;01m%s\u001b[39;00m\u001b[38;5;124m: \u001b[39m\u001b[38;5;132;01m%s\u001b[39;00m\u001b[38;5;124m'\u001b[39m,\n\u001b[0;32m     22\u001b[0m         \u001b[38;5;28mself\u001b[39m\u001b[38;5;241m.\u001b[39mimport_path,\n\u001b[0;32m     23\u001b[0m         err\n\u001b[0;32m     24\u001b[0m     )\n",
      "File \u001b[1;32mf:\\Apps\\source\\repos\\cg\\cuda\\.venv\\lib\\site-packages\\OpenGL\\plugins.py:45\u001b[0m, in \u001b[0;36mimportByName\u001b[1;34m(fullName)\u001b[0m\n\u001b[0;32m     43\u001b[0m moduleName \u001b[38;5;241m=\u001b[39m name[:\u001b[38;5;241m-\u001b[39m\u001b[38;5;241m1\u001b[39m]\n\u001b[0;32m     44\u001b[0m className \u001b[38;5;241m=\u001b[39m name[\u001b[38;5;241m-\u001b[39m\u001b[38;5;241m1\u001b[39m]\n\u001b[1;32m---> 45\u001b[0m module \u001b[38;5;241m=\u001b[39m \u001b[38;5;28;43m__import__\u001b[39;49m\u001b[43m(\u001b[49m\u001b[43m \u001b[49m\u001b[38;5;124;43m\"\u001b[39;49m\u001b[38;5;124;43m.\u001b[39;49m\u001b[38;5;124;43m\"\u001b[39;49m\u001b[38;5;241;43m.\u001b[39;49m\u001b[43mjoin\u001b[49m\u001b[43m(\u001b[49m\u001b[43mmoduleName\u001b[49m\u001b[43m)\u001b[49m\u001b[43m,\u001b[49m\u001b[43m \u001b[49m\u001b[43m{\u001b[49m\u001b[43m}\u001b[49m\u001b[43m,\u001b[49m\u001b[43m \u001b[49m\u001b[43m{\u001b[49m\u001b[43m}\u001b[49m\u001b[43m,\u001b[49m\u001b[43m \u001b[49m\u001b[43mmoduleName\u001b[49m\u001b[43m)\u001b[49m\n\u001b[0;32m     46\u001b[0m \u001b[38;5;28;01mreturn\u001b[39;00m \u001b[38;5;28mgetattr\u001b[39m( module, className )\n",
      "File \u001b[1;32mf:\\Apps\\source\\repos\\cg\\cuda\\.venv\\lib\\site-packages\\OpenGL\\arrays\\numpymodule.py:28\u001b[0m\n\u001b[0;32m     26\u001b[0m \u001b[38;5;28;01mif\u001b[39;00m acceleratesupport\u001b[38;5;241m.\u001b[39mACCELERATE_AVAILABLE:\n\u001b[0;32m     27\u001b[0m     \u001b[38;5;28;01mtry\u001b[39;00m:\n\u001b[1;32m---> 28\u001b[0m         \u001b[38;5;28;01mfrom\u001b[39;00m \u001b[38;5;21;01mOpenGL_accelerate\u001b[39;00m\u001b[38;5;21;01m.\u001b[39;00m\u001b[38;5;21;01mnumpy_formathandler\u001b[39;00m \u001b[38;5;28;01mimport\u001b[39;00m NumpyHandler\n\u001b[0;32m     29\u001b[0m     \u001b[38;5;28;01mexcept\u001b[39;00m \u001b[38;5;167;01mImportError\u001b[39;00m \u001b[38;5;28;01mas\u001b[39;00m err:\n\u001b[0;32m     30\u001b[0m         _log\u001b[38;5;241m.\u001b[39mwarning(\n\u001b[0;32m     31\u001b[0m             \u001b[38;5;124m\"\u001b[39m\u001b[38;5;124mUnable to load numpy_formathandler accelerator from OpenGL_accelerate\u001b[39m\u001b[38;5;124m\"\u001b[39m\n\u001b[0;32m     32\u001b[0m         )\n",
      "File \u001b[1;32msrc\\numpy_formathandler.pyx:1\u001b[0m, in \u001b[0;36minit OpenGL_accelerate.numpy_formathandler\u001b[1;34m()\u001b[0m\n",
      "\u001b[1;31mValueError\u001b[0m: numpy.dtype size changed, may indicate binary incompatibility. Expected 96 from C header, got 88 from PyObject"
     ]
    }
   ],
   "source": [
    "glCompileShader(fragment)\n",
    "if not glGetShaderiv(fragment, GL_COMPILE_STATUS):\n",
    "    error = glGetShaderInfoLog(fragment).decode()\n",
    "    print(error)\n",
    "    raise RuntimeError(\"Erro de compilacao do Fragment Shader\")"
   ]
  },
  {
   "cell_type": "markdown",
   "metadata": {},
   "source": [
    "### Associando os programas compilados ao programa principal"
   ]
  },
  {
   "cell_type": "code",
   "execution_count": 10,
   "metadata": {},
   "outputs": [],
   "source": [
    "# Attach shader objects to the program\n",
    "glAttachShader(program, vertex)\n",
    "glAttachShader(program, fragment)"
   ]
  },
  {
   "cell_type": "markdown",
   "metadata": {},
   "source": [
    "### Linkagem do programa"
   ]
  },
  {
   "cell_type": "code",
   "execution_count": 11,
   "metadata": {},
   "outputs": [
    {
     "ename": "ValueError",
     "evalue": "('numpy.dtype size changed, may indicate binary incompatibility. Expected 96 from C header, got 88 from PyObject', 2, <OpenGL.platform.baseplatform.glGetProgramiv object at 0x000001700A013680>)",
     "output_type": "error",
     "traceback": [
      "\u001b[1;31m---------------------------------------------------------------------------\u001b[0m",
      "\u001b[1;31mValueError\u001b[0m                                Traceback (most recent call last)",
      "Cell \u001b[1;32mIn[11], line 3\u001b[0m\n\u001b[0;32m      1\u001b[0m \u001b[38;5;66;03m# Build program\u001b[39;00m\n\u001b[0;32m      2\u001b[0m glLinkProgram(program)\n\u001b[1;32m----> 3\u001b[0m \u001b[38;5;28;01mif\u001b[39;00m \u001b[38;5;129;01mnot\u001b[39;00m \u001b[43mglGetProgramiv\u001b[49m\u001b[43m(\u001b[49m\u001b[43mprogram\u001b[49m\u001b[43m,\u001b[49m\u001b[43m \u001b[49m\u001b[43mGL_LINK_STATUS\u001b[49m\u001b[43m)\u001b[49m:\n\u001b[0;32m      4\u001b[0m     \u001b[38;5;28mprint\u001b[39m(glGetProgramInfoLog(program))\n\u001b[0;32m      5\u001b[0m     \u001b[38;5;28;01mraise\u001b[39;00m \u001b[38;5;167;01mRuntimeError\u001b[39;00m(\u001b[38;5;124m'\u001b[39m\u001b[38;5;124mLinking error\u001b[39m\u001b[38;5;124m'\u001b[39m)\n",
      "File \u001b[1;32msrc\\latebind.pyx:39\u001b[0m, in \u001b[0;36mOpenGL_accelerate.latebind.LateBind.__call__\u001b[1;34m()\u001b[0m\n",
      "File \u001b[1;32msrc\\wrapper.pyx:303\u001b[0m, in \u001b[0;36mOpenGL_accelerate.wrapper.Wrapper.__call__\u001b[1;34m()\u001b[0m\n",
      "File \u001b[1;32msrc\\wrapper.pyx:88\u001b[0m, in \u001b[0;36mOpenGL_accelerate.wrapper.CArgCalculator.c_call\u001b[1;34m()\u001b[0m\n",
      "File \u001b[1;32msrc\\wrapper.pyx:69\u001b[0m, in \u001b[0;36mOpenGL_accelerate.wrapper.CArgCalculatorElement.c_call\u001b[1;34m()\u001b[0m\n",
      "File \u001b[1;32msrc\\wrapper.pyx:64\u001b[0m, in \u001b[0;36mOpenGL_accelerate.wrapper.CArgCalculatorElement.c_call\u001b[1;34m()\u001b[0m\n",
      "File \u001b[1;32msrc\\arraydatatype.pyx:355\u001b[0m, in \u001b[0;36mOpenGL_accelerate.arraydatatype.SizedOutputOrInput.c_call\u001b[1;34m()\u001b[0m\n",
      "File \u001b[1;32msrc\\arraydatatype.pyx:224\u001b[0m, in \u001b[0;36mOpenGL_accelerate.arraydatatype.ArrayDatatype.c_zeros\u001b[1;34m()\u001b[0m\n",
      "File \u001b[1;32msrc\\arraydatatype.pyx:69\u001b[0m, in \u001b[0;36mOpenGL_accelerate.arraydatatype.HandlerRegistry.c_get_output_handler\u001b[1;34m()\u001b[0m\n",
      "File \u001b[1;32msrc\\arraydatatype.pyx:80\u001b[0m, in \u001b[0;36mOpenGL_accelerate.arraydatatype.HandlerRegistry.c_handler_by_plugin_name\u001b[1;34m()\u001b[0m\n",
      "File \u001b[1;32mf:\\Apps\\source\\repos\\cg\\cuda\\.venv\\lib\\site-packages\\OpenGL\\plugins.py:18\u001b[0m, in \u001b[0;36mPlugin.load\u001b[1;34m(self)\u001b[0m\n\u001b[0;32m     16\u001b[0m \u001b[38;5;250m\u001b[39m\u001b[38;5;124;03m\"\"\"Attempt to load and return our entry point\"\"\"\u001b[39;00m\n\u001b[0;32m     17\u001b[0m \u001b[38;5;28;01mtry\u001b[39;00m:\n\u001b[1;32m---> 18\u001b[0m     \u001b[38;5;28;01mreturn\u001b[39;00m \u001b[43mimportByName\u001b[49m\u001b[43m(\u001b[49m\u001b[43m \u001b[49m\u001b[38;5;28;43mself\u001b[39;49m\u001b[38;5;241;43m.\u001b[39;49m\u001b[43mimport_path\u001b[49m\u001b[43m \u001b[49m\u001b[43m)\u001b[49m\n\u001b[0;32m     19\u001b[0m \u001b[38;5;28;01mexcept\u001b[39;00m \u001b[38;5;167;01mImportError\u001b[39;00m \u001b[38;5;28;01mas\u001b[39;00m err:\n\u001b[0;32m     20\u001b[0m     log\u001b[38;5;241m.\u001b[39mwarning(\n\u001b[0;32m     21\u001b[0m         \u001b[38;5;124m'\u001b[39m\u001b[38;5;124mUnable to import \u001b[39m\u001b[38;5;132;01m%s\u001b[39;00m\u001b[38;5;124m: \u001b[39m\u001b[38;5;132;01m%s\u001b[39;00m\u001b[38;5;124m'\u001b[39m,\n\u001b[0;32m     22\u001b[0m         \u001b[38;5;28mself\u001b[39m\u001b[38;5;241m.\u001b[39mimport_path,\n\u001b[0;32m     23\u001b[0m         err\n\u001b[0;32m     24\u001b[0m     )\n",
      "File \u001b[1;32mf:\\Apps\\source\\repos\\cg\\cuda\\.venv\\lib\\site-packages\\OpenGL\\plugins.py:45\u001b[0m, in \u001b[0;36mimportByName\u001b[1;34m(fullName)\u001b[0m\n\u001b[0;32m     43\u001b[0m moduleName \u001b[38;5;241m=\u001b[39m name[:\u001b[38;5;241m-\u001b[39m\u001b[38;5;241m1\u001b[39m]\n\u001b[0;32m     44\u001b[0m className \u001b[38;5;241m=\u001b[39m name[\u001b[38;5;241m-\u001b[39m\u001b[38;5;241m1\u001b[39m]\n\u001b[1;32m---> 45\u001b[0m module \u001b[38;5;241m=\u001b[39m \u001b[38;5;28;43m__import__\u001b[39;49m\u001b[43m(\u001b[49m\u001b[43m \u001b[49m\u001b[38;5;124;43m\"\u001b[39;49m\u001b[38;5;124;43m.\u001b[39;49m\u001b[38;5;124;43m\"\u001b[39;49m\u001b[38;5;241;43m.\u001b[39;49m\u001b[43mjoin\u001b[49m\u001b[43m(\u001b[49m\u001b[43mmoduleName\u001b[49m\u001b[43m)\u001b[49m\u001b[43m,\u001b[49m\u001b[43m \u001b[49m\u001b[43m{\u001b[49m\u001b[43m}\u001b[49m\u001b[43m,\u001b[49m\u001b[43m \u001b[49m\u001b[43m{\u001b[49m\u001b[43m}\u001b[49m\u001b[43m,\u001b[49m\u001b[43m \u001b[49m\u001b[43mmoduleName\u001b[49m\u001b[43m)\u001b[49m\n\u001b[0;32m     46\u001b[0m \u001b[38;5;28;01mreturn\u001b[39;00m \u001b[38;5;28mgetattr\u001b[39m( module, className )\n",
      "File \u001b[1;32mf:\\Apps\\source\\repos\\cg\\cuda\\.venv\\lib\\site-packages\\OpenGL\\arrays\\numpymodule.py:28\u001b[0m\n\u001b[0;32m     26\u001b[0m \u001b[38;5;28;01mif\u001b[39;00m acceleratesupport\u001b[38;5;241m.\u001b[39mACCELERATE_AVAILABLE:\n\u001b[0;32m     27\u001b[0m     \u001b[38;5;28;01mtry\u001b[39;00m:\n\u001b[1;32m---> 28\u001b[0m         \u001b[38;5;28;01mfrom\u001b[39;00m \u001b[38;5;21;01mOpenGL_accelerate\u001b[39;00m\u001b[38;5;21;01m.\u001b[39;00m\u001b[38;5;21;01mnumpy_formathandler\u001b[39;00m \u001b[38;5;28;01mimport\u001b[39;00m NumpyHandler\n\u001b[0;32m     29\u001b[0m     \u001b[38;5;28;01mexcept\u001b[39;00m \u001b[38;5;167;01mImportError\u001b[39;00m \u001b[38;5;28;01mas\u001b[39;00m err:\n\u001b[0;32m     30\u001b[0m         _log\u001b[38;5;241m.\u001b[39mwarning(\n\u001b[0;32m     31\u001b[0m             \u001b[38;5;124m\"\u001b[39m\u001b[38;5;124mUnable to load numpy_formathandler accelerator from OpenGL_accelerate\u001b[39m\u001b[38;5;124m\"\u001b[39m\n\u001b[0;32m     32\u001b[0m         )\n",
      "File \u001b[1;32msrc\\numpy_formathandler.pyx:1\u001b[0m, in \u001b[0;36minit OpenGL_accelerate.numpy_formathandler\u001b[1;34m()\u001b[0m\n",
      "\u001b[1;31mValueError\u001b[0m: ('numpy.dtype size changed, may indicate binary incompatibility. Expected 96 from C header, got 88 from PyObject', 2, <OpenGL.platform.baseplatform.glGetProgramiv object at 0x000001700A013680>)"
     ]
    }
   ],
   "source": [
    "# Build program\n",
    "glLinkProgram(program)\n",
    "if not glGetProgramiv(program, GL_LINK_STATUS):\n",
    "    print(glGetProgramInfoLog(program))\n",
    "    raise RuntimeError('Linking error')\n",
    "    \n",
    "# Make program the default program\n",
    "glUseProgram(program)"
   ]
  },
  {
   "cell_type": "markdown",
   "metadata": {},
   "source": [
    "### Preparando dados para enviar a GPU\n",
    "Neste momento, compilamos nossos *Vertex* e *Program Shaders* para que a GPU possa processá-los.\n",
    "\n",
    "Por outro lado, as informações de vértices geralmente estão na CPU e devem ser transmitidas para a GPU.\n",
    "\n",
    "No código abaixo, criamos três coordenadas para exibir três pontos em nosso programa."
   ]
  },
  {
   "cell_type": "code",
   "execution_count": 12,
   "metadata": {},
   "outputs": [],
   "source": [
    "# preparando espaço para 3 vértices usando 2 coordenadas (x,y)\n",
    "vertices = np.zeros(3, [(\"position\", np.float32, 2)])\n",
    "\n",
    "# preenchendo as coordenadas de cada vértice\n",
    "vertices['position'] = [\n",
    "                            ( 0.0, 0.0), # vertice 0\n",
    "                            (+0.5,+0.5), # vertice 1\n",
    "                            (-0.5,-0.5)  # vertice 2\n",
    "                        ]"
   ]
  },
  {
   "cell_type": "markdown",
   "metadata": {},
   "source": [
    "### Para enviar nossos dados da CPU para a GPU, precisamos requisitar um slot."
   ]
  },
  {
   "cell_type": "code",
   "execution_count": 13,
   "metadata": {},
   "outputs": [
    {
     "ename": "ValueError",
     "evalue": "('numpy.dtype size changed, may indicate binary incompatibility. Expected 96 from C header, got 88 from PyObject', 1, <OpenGL.platform.baseplatform.glGenBuffers object at 0x0000017009FE8C40>)",
     "output_type": "error",
     "traceback": [
      "\u001b[1;31m---------------------------------------------------------------------------\u001b[0m",
      "\u001b[1;31mValueError\u001b[0m                                Traceback (most recent call last)",
      "Cell \u001b[1;32mIn[13], line 2\u001b[0m\n\u001b[0;32m      1\u001b[0m \u001b[38;5;66;03m# Request a buffer slot from GPU\u001b[39;00m\n\u001b[1;32m----> 2\u001b[0m buffer \u001b[38;5;241m=\u001b[39m \u001b[43mglGenBuffers\u001b[49m\u001b[43m(\u001b[49m\u001b[38;5;241;43m1\u001b[39;49m\u001b[43m)\u001b[49m\n\u001b[0;32m      3\u001b[0m \u001b[38;5;66;03m# Make this buffer the default one\u001b[39;00m\n\u001b[0;32m      4\u001b[0m glBindBuffer(GL_ARRAY_BUFFER, buffer)\n",
      "File \u001b[1;32msrc\\latebind.pyx:39\u001b[0m, in \u001b[0;36mOpenGL_accelerate.latebind.LateBind.__call__\u001b[1;34m()\u001b[0m\n",
      "File \u001b[1;32msrc\\wrapper.pyx:303\u001b[0m, in \u001b[0;36mOpenGL_accelerate.wrapper.Wrapper.__call__\u001b[1;34m()\u001b[0m\n",
      "File \u001b[1;32msrc\\wrapper.pyx:88\u001b[0m, in \u001b[0;36mOpenGL_accelerate.wrapper.CArgCalculator.c_call\u001b[1;34m()\u001b[0m\n",
      "File \u001b[1;32msrc\\wrapper.pyx:69\u001b[0m, in \u001b[0;36mOpenGL_accelerate.wrapper.CArgCalculatorElement.c_call\u001b[1;34m()\u001b[0m\n",
      "File \u001b[1;32msrc\\wrapper.pyx:64\u001b[0m, in \u001b[0;36mOpenGL_accelerate.wrapper.CArgCalculatorElement.c_call\u001b[1;34m()\u001b[0m\n",
      "File \u001b[1;32msrc\\arraydatatype.pyx:355\u001b[0m, in \u001b[0;36mOpenGL_accelerate.arraydatatype.SizedOutputOrInput.c_call\u001b[1;34m()\u001b[0m\n",
      "File \u001b[1;32msrc\\arraydatatype.pyx:224\u001b[0m, in \u001b[0;36mOpenGL_accelerate.arraydatatype.ArrayDatatype.c_zeros\u001b[1;34m()\u001b[0m\n",
      "File \u001b[1;32msrc\\arraydatatype.pyx:69\u001b[0m, in \u001b[0;36mOpenGL_accelerate.arraydatatype.HandlerRegistry.c_get_output_handler\u001b[1;34m()\u001b[0m\n",
      "File \u001b[1;32msrc\\arraydatatype.pyx:80\u001b[0m, in \u001b[0;36mOpenGL_accelerate.arraydatatype.HandlerRegistry.c_handler_by_plugin_name\u001b[1;34m()\u001b[0m\n",
      "File \u001b[1;32mf:\\Apps\\source\\repos\\cg\\cuda\\.venv\\lib\\site-packages\\OpenGL\\plugins.py:18\u001b[0m, in \u001b[0;36mPlugin.load\u001b[1;34m(self)\u001b[0m\n\u001b[0;32m     16\u001b[0m \u001b[38;5;250m\u001b[39m\u001b[38;5;124;03m\"\"\"Attempt to load and return our entry point\"\"\"\u001b[39;00m\n\u001b[0;32m     17\u001b[0m \u001b[38;5;28;01mtry\u001b[39;00m:\n\u001b[1;32m---> 18\u001b[0m     \u001b[38;5;28;01mreturn\u001b[39;00m \u001b[43mimportByName\u001b[49m\u001b[43m(\u001b[49m\u001b[43m \u001b[49m\u001b[38;5;28;43mself\u001b[39;49m\u001b[38;5;241;43m.\u001b[39;49m\u001b[43mimport_path\u001b[49m\u001b[43m \u001b[49m\u001b[43m)\u001b[49m\n\u001b[0;32m     19\u001b[0m \u001b[38;5;28;01mexcept\u001b[39;00m \u001b[38;5;167;01mImportError\u001b[39;00m \u001b[38;5;28;01mas\u001b[39;00m err:\n\u001b[0;32m     20\u001b[0m     log\u001b[38;5;241m.\u001b[39mwarning(\n\u001b[0;32m     21\u001b[0m         \u001b[38;5;124m'\u001b[39m\u001b[38;5;124mUnable to import \u001b[39m\u001b[38;5;132;01m%s\u001b[39;00m\u001b[38;5;124m: \u001b[39m\u001b[38;5;132;01m%s\u001b[39;00m\u001b[38;5;124m'\u001b[39m,\n\u001b[0;32m     22\u001b[0m         \u001b[38;5;28mself\u001b[39m\u001b[38;5;241m.\u001b[39mimport_path,\n\u001b[0;32m     23\u001b[0m         err\n\u001b[0;32m     24\u001b[0m     )\n",
      "File \u001b[1;32mf:\\Apps\\source\\repos\\cg\\cuda\\.venv\\lib\\site-packages\\OpenGL\\plugins.py:45\u001b[0m, in \u001b[0;36mimportByName\u001b[1;34m(fullName)\u001b[0m\n\u001b[0;32m     43\u001b[0m moduleName \u001b[38;5;241m=\u001b[39m name[:\u001b[38;5;241m-\u001b[39m\u001b[38;5;241m1\u001b[39m]\n\u001b[0;32m     44\u001b[0m className \u001b[38;5;241m=\u001b[39m name[\u001b[38;5;241m-\u001b[39m\u001b[38;5;241m1\u001b[39m]\n\u001b[1;32m---> 45\u001b[0m module \u001b[38;5;241m=\u001b[39m \u001b[38;5;28;43m__import__\u001b[39;49m\u001b[43m(\u001b[49m\u001b[43m \u001b[49m\u001b[38;5;124;43m\"\u001b[39;49m\u001b[38;5;124;43m.\u001b[39;49m\u001b[38;5;124;43m\"\u001b[39;49m\u001b[38;5;241;43m.\u001b[39;49m\u001b[43mjoin\u001b[49m\u001b[43m(\u001b[49m\u001b[43mmoduleName\u001b[49m\u001b[43m)\u001b[49m\u001b[43m,\u001b[49m\u001b[43m \u001b[49m\u001b[43m{\u001b[49m\u001b[43m}\u001b[49m\u001b[43m,\u001b[49m\u001b[43m \u001b[49m\u001b[43m{\u001b[49m\u001b[43m}\u001b[49m\u001b[43m,\u001b[49m\u001b[43m \u001b[49m\u001b[43mmoduleName\u001b[49m\u001b[43m)\u001b[49m\n\u001b[0;32m     46\u001b[0m \u001b[38;5;28;01mreturn\u001b[39;00m \u001b[38;5;28mgetattr\u001b[39m( module, className )\n",
      "File \u001b[1;32mf:\\Apps\\source\\repos\\cg\\cuda\\.venv\\lib\\site-packages\\OpenGL\\arrays\\numpymodule.py:28\u001b[0m\n\u001b[0;32m     26\u001b[0m \u001b[38;5;28;01mif\u001b[39;00m acceleratesupport\u001b[38;5;241m.\u001b[39mACCELERATE_AVAILABLE:\n\u001b[0;32m     27\u001b[0m     \u001b[38;5;28;01mtry\u001b[39;00m:\n\u001b[1;32m---> 28\u001b[0m         \u001b[38;5;28;01mfrom\u001b[39;00m \u001b[38;5;21;01mOpenGL_accelerate\u001b[39;00m\u001b[38;5;21;01m.\u001b[39;00m\u001b[38;5;21;01mnumpy_formathandler\u001b[39;00m \u001b[38;5;28;01mimport\u001b[39;00m NumpyHandler\n\u001b[0;32m     29\u001b[0m     \u001b[38;5;28;01mexcept\u001b[39;00m \u001b[38;5;167;01mImportError\u001b[39;00m \u001b[38;5;28;01mas\u001b[39;00m err:\n\u001b[0;32m     30\u001b[0m         _log\u001b[38;5;241m.\u001b[39mwarning(\n\u001b[0;32m     31\u001b[0m             \u001b[38;5;124m\"\u001b[39m\u001b[38;5;124mUnable to load numpy_formathandler accelerator from OpenGL_accelerate\u001b[39m\u001b[38;5;124m\"\u001b[39m\n\u001b[0;32m     32\u001b[0m         )\n",
      "File \u001b[1;32msrc\\numpy_formathandler.pyx:1\u001b[0m, in \u001b[0;36minit OpenGL_accelerate.numpy_formathandler\u001b[1;34m()\u001b[0m\n",
      "\u001b[1;31mValueError\u001b[0m: ('numpy.dtype size changed, may indicate binary incompatibility. Expected 96 from C header, got 88 from PyObject', 1, <OpenGL.platform.baseplatform.glGenBuffers object at 0x0000017009FE8C40>)"
     ]
    }
   ],
   "source": [
    "# Request a buffer slot from GPU\n",
    "buffer = glGenBuffers(1)\n",
    "# Make this buffer the default one\n",
    "glBindBuffer(GL_ARRAY_BUFFER, buffer)"
   ]
  },
  {
   "cell_type": "markdown",
   "metadata": {},
   "source": [
    "### Abaixo, enviamos todo o conteúdo da variável vertices.\n",
    "Veja os parâmetros da função `glBufferData` [https://www.khronos.org/registry/OpenGL-Refpages/gl4/html/glBufferData.xhtml]"
   ]
  },
  {
   "cell_type": "code",
   "execution_count": 14,
   "metadata": {},
   "outputs": [
    {
     "ename": "ValueError",
     "evalue": "numpy.dtype size changed, may indicate binary incompatibility. Expected 96 from C header, got 88 from PyObject",
     "output_type": "error",
     "traceback": [
      "\u001b[1;31m---------------------------------------------------------------------------\u001b[0m",
      "\u001b[1;31mValueError\u001b[0m                                Traceback (most recent call last)",
      "Cell \u001b[1;32mIn[14], line 2\u001b[0m\n\u001b[0;32m      1\u001b[0m \u001b[38;5;66;03m# Upload data\u001b[39;00m\n\u001b[1;32m----> 2\u001b[0m \u001b[43mglBufferData\u001b[49m\u001b[43m(\u001b[49m\u001b[43mGL_ARRAY_BUFFER\u001b[49m\u001b[43m,\u001b[49m\u001b[43m \u001b[49m\u001b[43mvertices\u001b[49m\u001b[38;5;241;43m.\u001b[39;49m\u001b[43mnbytes\u001b[49m\u001b[43m,\u001b[49m\u001b[43m \u001b[49m\u001b[43mvertices\u001b[49m\u001b[43m,\u001b[49m\u001b[43m \u001b[49m\u001b[43mGL_DYNAMIC_DRAW\u001b[49m\u001b[43m)\u001b[49m\n\u001b[0;32m      3\u001b[0m glBindBuffer(GL_ARRAY_BUFFER, buffer)\n",
      "File \u001b[1;32msrc\\latebind.pyx:51\u001b[0m, in \u001b[0;36mOpenGL_accelerate.latebind.Curry.__call__\u001b[1;34m()\u001b[0m\n",
      "File \u001b[1;32mf:\\Apps\\source\\repos\\cg\\cuda\\.venv\\lib\\site-packages\\OpenGL\\GL\\VERSION\\GL_1_5.py:86\u001b[0m, in \u001b[0;36mglBufferData\u001b[1;34m(baseOperation, target, size, data, usage)\u001b[0m\n\u001b[0;32m     84\u001b[0m     data \u001b[38;5;241m=\u001b[39m size\n\u001b[0;32m     85\u001b[0m     size \u001b[38;5;241m=\u001b[39m \u001b[38;5;28;01mNone\u001b[39;00m\n\u001b[1;32m---> 86\u001b[0m data \u001b[38;5;241m=\u001b[39m \u001b[43mArrayDatatype\u001b[49m\u001b[38;5;241;43m.\u001b[39;49m\u001b[43masArray\u001b[49m\u001b[43m(\u001b[49m\u001b[43m \u001b[49m\u001b[43mdata\u001b[49m\u001b[43m \u001b[49m\u001b[43m)\u001b[49m\n\u001b[0;32m     87\u001b[0m \u001b[38;5;28;01mif\u001b[39;00m size \u001b[38;5;129;01mis\u001b[39;00m \u001b[38;5;28;01mNone\u001b[39;00m:\n\u001b[0;32m     88\u001b[0m     size \u001b[38;5;241m=\u001b[39m ArrayDatatype\u001b[38;5;241m.\u001b[39marrayByteCount( data )\n",
      "File \u001b[1;32msrc\\arraydatatype.pyx:172\u001b[0m, in \u001b[0;36mOpenGL_accelerate.arraydatatype.ArrayDatatype.asArray\u001b[1;34m()\u001b[0m\n",
      "File \u001b[1;32msrc\\arraydatatype.pyx:47\u001b[0m, in \u001b[0;36mOpenGL_accelerate.arraydatatype.HandlerRegistry.c_lookup\u001b[1;34m()\u001b[0m\n",
      "File \u001b[1;32mf:\\Apps\\source\\repos\\cg\\cuda\\.venv\\lib\\site-packages\\OpenGL\\plugins.py:18\u001b[0m, in \u001b[0;36mPlugin.load\u001b[1;34m(self)\u001b[0m\n\u001b[0;32m     16\u001b[0m \u001b[38;5;250m\u001b[39m\u001b[38;5;124;03m\"\"\"Attempt to load and return our entry point\"\"\"\u001b[39;00m\n\u001b[0;32m     17\u001b[0m \u001b[38;5;28;01mtry\u001b[39;00m:\n\u001b[1;32m---> 18\u001b[0m     \u001b[38;5;28;01mreturn\u001b[39;00m \u001b[43mimportByName\u001b[49m\u001b[43m(\u001b[49m\u001b[43m \u001b[49m\u001b[38;5;28;43mself\u001b[39;49m\u001b[38;5;241;43m.\u001b[39;49m\u001b[43mimport_path\u001b[49m\u001b[43m \u001b[49m\u001b[43m)\u001b[49m\n\u001b[0;32m     19\u001b[0m \u001b[38;5;28;01mexcept\u001b[39;00m \u001b[38;5;167;01mImportError\u001b[39;00m \u001b[38;5;28;01mas\u001b[39;00m err:\n\u001b[0;32m     20\u001b[0m     log\u001b[38;5;241m.\u001b[39mwarning(\n\u001b[0;32m     21\u001b[0m         \u001b[38;5;124m'\u001b[39m\u001b[38;5;124mUnable to import \u001b[39m\u001b[38;5;132;01m%s\u001b[39;00m\u001b[38;5;124m: \u001b[39m\u001b[38;5;132;01m%s\u001b[39;00m\u001b[38;5;124m'\u001b[39m,\n\u001b[0;32m     22\u001b[0m         \u001b[38;5;28mself\u001b[39m\u001b[38;5;241m.\u001b[39mimport_path,\n\u001b[0;32m     23\u001b[0m         err\n\u001b[0;32m     24\u001b[0m     )\n",
      "File \u001b[1;32mf:\\Apps\\source\\repos\\cg\\cuda\\.venv\\lib\\site-packages\\OpenGL\\plugins.py:45\u001b[0m, in \u001b[0;36mimportByName\u001b[1;34m(fullName)\u001b[0m\n\u001b[0;32m     43\u001b[0m moduleName \u001b[38;5;241m=\u001b[39m name[:\u001b[38;5;241m-\u001b[39m\u001b[38;5;241m1\u001b[39m]\n\u001b[0;32m     44\u001b[0m className \u001b[38;5;241m=\u001b[39m name[\u001b[38;5;241m-\u001b[39m\u001b[38;5;241m1\u001b[39m]\n\u001b[1;32m---> 45\u001b[0m module \u001b[38;5;241m=\u001b[39m \u001b[38;5;28;43m__import__\u001b[39;49m\u001b[43m(\u001b[49m\u001b[43m \u001b[49m\u001b[38;5;124;43m\"\u001b[39;49m\u001b[38;5;124;43m.\u001b[39;49m\u001b[38;5;124;43m\"\u001b[39;49m\u001b[38;5;241;43m.\u001b[39;49m\u001b[43mjoin\u001b[49m\u001b[43m(\u001b[49m\u001b[43mmoduleName\u001b[49m\u001b[43m)\u001b[49m\u001b[43m,\u001b[49m\u001b[43m \u001b[49m\u001b[43m{\u001b[49m\u001b[43m}\u001b[49m\u001b[43m,\u001b[49m\u001b[43m \u001b[49m\u001b[43m{\u001b[49m\u001b[43m}\u001b[49m\u001b[43m,\u001b[49m\u001b[43m \u001b[49m\u001b[43mmoduleName\u001b[49m\u001b[43m)\u001b[49m\n\u001b[0;32m     46\u001b[0m \u001b[38;5;28;01mreturn\u001b[39;00m \u001b[38;5;28mgetattr\u001b[39m( module, className )\n",
      "File \u001b[1;32mf:\\Apps\\source\\repos\\cg\\cuda\\.venv\\lib\\site-packages\\OpenGL\\arrays\\numpymodule.py:28\u001b[0m\n\u001b[0;32m     26\u001b[0m \u001b[38;5;28;01mif\u001b[39;00m acceleratesupport\u001b[38;5;241m.\u001b[39mACCELERATE_AVAILABLE:\n\u001b[0;32m     27\u001b[0m     \u001b[38;5;28;01mtry\u001b[39;00m:\n\u001b[1;32m---> 28\u001b[0m         \u001b[38;5;28;01mfrom\u001b[39;00m \u001b[38;5;21;01mOpenGL_accelerate\u001b[39;00m\u001b[38;5;21;01m.\u001b[39;00m\u001b[38;5;21;01mnumpy_formathandler\u001b[39;00m \u001b[38;5;28;01mimport\u001b[39;00m NumpyHandler\n\u001b[0;32m     29\u001b[0m     \u001b[38;5;28;01mexcept\u001b[39;00m \u001b[38;5;167;01mImportError\u001b[39;00m \u001b[38;5;28;01mas\u001b[39;00m err:\n\u001b[0;32m     30\u001b[0m         _log\u001b[38;5;241m.\u001b[39mwarning(\n\u001b[0;32m     31\u001b[0m             \u001b[38;5;124m\"\u001b[39m\u001b[38;5;124mUnable to load numpy_formathandler accelerator from OpenGL_accelerate\u001b[39m\u001b[38;5;124m\"\u001b[39m\n\u001b[0;32m     32\u001b[0m         )\n",
      "File \u001b[1;32msrc\\numpy_formathandler.pyx:1\u001b[0m, in \u001b[0;36minit OpenGL_accelerate.numpy_formathandler\u001b[1;34m()\u001b[0m\n",
      "\u001b[1;31mValueError\u001b[0m: numpy.dtype size changed, may indicate binary incompatibility. Expected 96 from C header, got 88 from PyObject"
     ]
    }
   ],
   "source": [
    "# Upload data\n",
    "glBufferData(GL_ARRAY_BUFFER, vertices.nbytes, vertices, GL_DYNAMIC_DRAW)\n",
    "glBindBuffer(GL_ARRAY_BUFFER, buffer)"
   ]
  },
  {
   "cell_type": "markdown",
   "metadata": {},
   "source": [
    "### Associando variáveis do programa `GLSL` (*Vertex Shaders*) com nossos dados\n",
    "Primeiro, definimos o byte inicial e o offset dos dados."
   ]
  },
  {
   "cell_type": "code",
   "execution_count": 15,
   "metadata": {},
   "outputs": [],
   "source": [
    "# Bind the position attribute\n",
    "# --------------------------------------\n",
    "stride = vertices.strides[0]\n",
    "offset = ctypes.c_void_p(0)"
   ]
  },
  {
   "cell_type": "markdown",
   "metadata": {},
   "source": [
    "Em seguida, soliciamos à GPU a localização da variável `position` (que guarda coordenadas dos nossos vértices). Definimos essa variável no *Vertex Shader*."
   ]
  },
  {
   "cell_type": "code",
   "execution_count": 16,
   "metadata": {},
   "outputs": [],
   "source": [
    "loc = glGetAttribLocation(program, \"position\")\n",
    "glEnableVertexAttribArray(loc)"
   ]
  },
  {
   "cell_type": "markdown",
   "metadata": {},
   "source": [
    "A partir da localização anterior, indicamos à GPU onde está o conteúdo (via posições stride/offset) para a variável `position` (aqui identificada na posição `loc`).\n",
    "\n",
    "Outros parâmetros:\n",
    "\n",
    "* Definimos que possui duas coordenadas.\n",
    "* Que cada coordenada é do tipo `float` (`GL_FLOAT`).\n",
    "* Que não se deve normalizar a coordenada (`False`).\n",
    "\n",
    "Mais detalhes: https://www.khronos.org/registry/OpenGL-Refpages/gl4/html/glVertexAttribPointer.xhtml"
   ]
  },
  {
   "cell_type": "code",
   "execution_count": 17,
   "metadata": {},
   "outputs": [],
   "source": [
    "glVertexAttribPointer(loc, 2, GL_FLOAT, False, stride, offset)"
   ]
  },
  {
   "cell_type": "markdown",
   "metadata": {},
   "source": [
    "### Nesse momento, exibimos a janela."
   ]
  },
  {
   "cell_type": "code",
   "execution_count": 18,
   "metadata": {},
   "outputs": [
    {
     "ename": "",
     "evalue": "",
     "output_type": "error",
     "traceback": [
      "\u001b[1;31mThe Kernel crashed while executing code in the current cell or a previous cell. \n",
      "\u001b[1;31mPlease review the code in the cell(s) to identify a possible cause of the failure. \n",
      "\u001b[1;31mClick <a href='https://aka.ms/vscodeJupyterKernelCrash'>here</a> for more info. \n",
      "\u001b[1;31mView Jupyter <a href='command:jupyter.viewOutput'>log</a> for further details."
     ]
    }
   ],
   "source": [
    "glfw.show_window(window)"
   ]
  },
  {
   "cell_type": "markdown",
   "metadata": {},
   "source": [
    "### Loop principal da janela.\n",
    "Enquanto a janela não for fechada, esse laço será executado. É neste espaço que trabalhamos com algumas interações com a `OpenGL`.\n",
    "\n",
    "A novidade agora é a função `glDrawArrays()`.\n",
    "\n",
    "Tal função recebe o tipo de primitiva (`GL_POINTS`), o índice inicial do array de vértices (vamos mostrar todos os três vértices, por isso começamos com $0$) e a quantidade de vértices (`len(vertices)`)."
   ]
  },
  {
   "cell_type": "code",
   "execution_count": null,
   "metadata": {},
   "outputs": [],
   "source": [
    "while not glfw.window_should_close(window):\n",
    "\n",
    "    glfw.poll_events() \n",
    "\n",
    "    \n",
    "    glClear(GL_COLOR_BUFFER_BIT) \n",
    "    glClearColor(1.0, 1.0, 1.0, 1.0)\n",
    "    \n",
    "    ### glDrawArrays\n",
    "    glDrawArrays(GL_POINTS, 0, 3)\n",
    "\n",
    "    glfw.swap_buffers(window)\n",
    "\n",
    "glfw.terminate()"
   ]
  },
  {
   "cell_type": "markdown",
   "metadata": {},
   "source": [
    "# Exercício\n",
    "Modifique esse código para exibir $500$ pontos plotados aleatoriamente no intervalo $\\left(-1,+1\\right)$.\n",
    "\n",
    "Aproveite esse exercício para estudar sobre o `numpy`. Ele possui diversos utilitários para cálculo vetorial. \n",
    "\n",
    "Dica: https://docs.scipy.org/doc/numpy-1.15.1/reference/generated/numpy.random.rand.html"
   ]
  }
 ],
 "metadata": {
  "finalized": {
   "timestamp": 1583114796072,
   "trusted": true
  },
  "kernelspec": {
   "display_name": "Python 3 (ipykernel)",
   "language": "python",
   "name": "python3"
  },
  "language_info": {
   "codemirror_mode": {
    "name": "ipython",
    "version": 3
   },
   "file_extension": ".py",
   "mimetype": "text/x-python",
   "name": "python",
   "nbconvert_exporter": "python",
   "pygments_lexer": "ipython3",
   "version": "3.10.7"
  }
 },
 "nbformat": 4,
 "nbformat_minor": 2
}
